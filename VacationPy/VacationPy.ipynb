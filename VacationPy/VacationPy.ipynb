{
 "cells": [
  {
   "cell_type": "code",
   "execution_count": 2,
   "metadata": {},
   "outputs": [],
   "source": [
    "# Dependencies and Setup\n",
    "import matplotlib.pyplot as plt\n",
    "import pandas as pd\n",
    "import numpy as np\n",
    "import requests\n",
    "import json\n",
    "import time\n",
    "import gmaps\n",
    "\n",
    "# Import API key\n",
    "from config import g_key"
   ]
  },
  {
   "cell_type": "code",
   "execution_count": 3,
   "metadata": {},
   "outputs": [
    {
     "data": {
      "text/plain": [
       "563"
      ]
     },
     "execution_count": 3,
     "metadata": {},
     "output_type": "execute_result"
    }
   ],
   "source": [
    "vacation = pd.read_csv('../WeatherPy/output_data/cities.csv')\n",
    "len(vacation)"
   ]
  },
  {
   "cell_type": "code",
   "execution_count": 15,
   "metadata": {
    "scrolled": true
   },
   "outputs": [
    {
     "data": {
      "text/plain": [
       "9"
      ]
     },
     "execution_count": 15,
     "metadata": {},
     "output_type": "execute_result"
    }
   ],
   "source": [
    "ideal_temp_min = vacation.loc[vacation[\"max temperature\"] >=71]\n",
    "ideal_temp_max = ideal_temp_min.loc[ideal_temp_min[\"max temperature\"]<78]\n",
    "ideal_wind = ideal_temp_max.loc[ideal_temp_max['wind speed (mph)']<10]\n",
    "ideal_vacation = ideal_wind.loc[ideal_wind['cloudiness (%)']<10]\n",
    "len(ideal_vacation)"
   ]
  },
  {
   "cell_type": "code",
   "execution_count": 16,
   "metadata": {},
   "outputs": [
    {
     "data": {
      "text/html": [
       "<div>\n",
       "<style scoped>\n",
       "    .dataframe tbody tr th:only-of-type {\n",
       "        vertical-align: middle;\n",
       "    }\n",
       "\n",
       "    .dataframe tbody tr th {\n",
       "        vertical-align: top;\n",
       "    }\n",
       "\n",
       "    .dataframe thead th {\n",
       "        text-align: right;\n",
       "    }\n",
       "</style>\n",
       "<table border=\"1\" class=\"dataframe\">\n",
       "  <thead>\n",
       "    <tr style=\"text-align: right;\">\n",
       "      <th></th>\n",
       "      <th>city</th>\n",
       "      <th>country</th>\n",
       "      <th>latitude</th>\n",
       "      <th>longitude</th>\n",
       "      <th>Hotel Name</th>\n",
       "    </tr>\n",
       "  </thead>\n",
       "  <tbody>\n",
       "    <tr>\n",
       "      <th>15</th>\n",
       "      <td>laminusa</td>\n",
       "      <td>BR</td>\n",
       "      <td>-16.3578</td>\n",
       "      <td>-49.4961</td>\n",
       "      <td></td>\n",
       "    </tr>\n",
       "    <tr>\n",
       "      <th>111</th>\n",
       "      <td>beberon</td>\n",
       "      <td>CN</td>\n",
       "      <td>31.8128</td>\n",
       "      <td>121.6561</td>\n",
       "      <td></td>\n",
       "    </tr>\n",
       "    <tr>\n",
       "      <th>122</th>\n",
       "      <td>hyde</td>\n",
       "      <td>AM</td>\n",
       "      <td>40.0000</td>\n",
       "      <td>45.0000</td>\n",
       "      <td></td>\n",
       "    </tr>\n",
       "    <tr>\n",
       "      <th>252</th>\n",
       "      <td>miercurea-ciuc</td>\n",
       "      <td>AM</td>\n",
       "      <td>40.0275</td>\n",
       "      <td>44.3670</td>\n",
       "      <td></td>\n",
       "    </tr>\n",
       "    <tr>\n",
       "      <th>287</th>\n",
       "      <td>mazinde</td>\n",
       "      <td>ES</td>\n",
       "      <td>42.5216</td>\n",
       "      <td>-7.5142</td>\n",
       "      <td></td>\n",
       "    </tr>\n",
       "    <tr>\n",
       "      <th>361</th>\n",
       "      <td>stenlille</td>\n",
       "      <td>US</td>\n",
       "      <td>34.0454</td>\n",
       "      <td>-81.1293</td>\n",
       "      <td></td>\n",
       "    </tr>\n",
       "    <tr>\n",
       "      <th>415</th>\n",
       "      <td>aizkraukle</td>\n",
       "      <td>US</td>\n",
       "      <td>32.5160</td>\n",
       "      <td>-93.7321</td>\n",
       "      <td></td>\n",
       "    </tr>\n",
       "    <tr>\n",
       "      <th>416</th>\n",
       "      <td>ome</td>\n",
       "      <td>PT</td>\n",
       "      <td>41.3495</td>\n",
       "      <td>-8.4015</td>\n",
       "      <td></td>\n",
       "    </tr>\n",
       "    <tr>\n",
       "      <th>454</th>\n",
       "      <td>levice</td>\n",
       "      <td>IT</td>\n",
       "      <td>40.7272</td>\n",
       "      <td>8.5603</td>\n",
       "      <td></td>\n",
       "    </tr>\n",
       "  </tbody>\n",
       "</table>\n",
       "</div>"
      ],
      "text/plain": [
       "               city country  latitude  longitude Hotel Name\n",
       "15         laminusa      BR  -16.3578   -49.4961           \n",
       "111         beberon      CN   31.8128   121.6561           \n",
       "122            hyde      AM   40.0000    45.0000           \n",
       "252  miercurea-ciuc      AM   40.0275    44.3670           \n",
       "287         mazinde      ES   42.5216    -7.5142           \n",
       "361       stenlille      US   34.0454   -81.1293           \n",
       "415      aizkraukle      US   32.5160   -93.7321           \n",
       "416             ome      PT   41.3495    -8.4015           \n",
       "454          levice      IT   40.7272     8.5603           "
      ]
     },
     "execution_count": 16,
     "metadata": {},
     "output_type": "execute_result"
    }
   ],
   "source": [
    "# Create a hotel_df\n",
    "hotel_search_df = ideal_vacation.loc[:,[\"city\",\"country\", \"latitude\", \"longitude\"]]\n",
    "\n",
    "# Add a \"Hotel Name\" column to the DataFrame.\n",
    "hotel_search_df[\"Hotel Name\"] = \"\"\n",
    "\n",
    "# Display the result\n",
    "hotel_search_df"
   ]
  },
  {
   "cell_type": "code",
   "execution_count": 17,
   "metadata": {},
   "outputs": [],
   "source": [
    "base_url = \"https://maps.googleapis.com/maps/api/place/nearbysearch/json\"\n",
    "\n",
    "params = {\"type\" : \"hotel\",\n",
    "          \"keyword\" : \"hotel\",\n",
    "          \"radius\" : 3,\n",
    "          \"key\" : g_key}"
   ]
  },
  {
   "cell_type": "code",
   "execution_count": 18,
   "metadata": {},
   "outputs": [
    {
     "name": "stdout",
     "output_type": "stream",
     "text": [
      "Retrieving Results for Index 15: laminusa.\n",
      "Missing field/result... skipping.\n",
      "------------\n",
      "Retrieving Results for Index 111: beberon.\n",
      "Closest hotel (within 3 mi range) in beberon is Hanting Express Qidong Jianghai Middle Road.\n",
      "------------\n",
      "Retrieving Results for Index 122: hyde.\n",
      "Missing field/result... skipping.\n",
      "------------\n",
      "Retrieving Results for Index 252: miercurea-ciuc.\n",
      "Missing field/result... skipping.\n",
      "------------\n",
      "Retrieving Results for Index 287: mazinde.\n",
      "Closest hotel (within 3 mi range) in mazinde is Hotel Ribeira Sacra.\n",
      "------------\n",
      "Retrieving Results for Index 361: stenlille.\n",
      "Missing field/result... skipping.\n",
      "------------\n",
      "Retrieving Results for Index 415: aizkraukle.\n",
      "Missing field/result... skipping.\n",
      "------------\n",
      "Retrieving Results for Index 416: ome.\n",
      "Missing field/result... skipping.\n",
      "------------\n",
      "Retrieving Results for Index 454: levice.\n",
      "Closest hotel (within 3 mi range) in levice is Piazza Azuni 18.\n",
      "------------\n",
      "-------End of Search-------\n"
     ]
    }
   ],
   "source": [
    "for index, row in hotel_search_df.iterrows():\n",
    "    # get city name, lat, lnt from df\n",
    "    lat = row[\"latitude\"]\n",
    "    lng = row[\"longitude\"]\n",
    "    city_name = row[\"city\"]\n",
    "    \n",
    "    params[\"location\"] = f\"{lat},{lng}\"\n",
    "\n",
    "    print(f\"Retrieving Results for Index {index}: {city_name}.\")\n",
    "    response = requests.get(base_url, params=params).json()\n",
    "    \n",
    "    results = response['results']\n",
    "    \n",
    "    try:\n",
    "        print(f\"Closest hotel (within 3 mi range) in {city_name} is {results[0]['name']}.\")\n",
    "        hotel_search_df.loc[index, \"Hotel Name\"] = results[0]['name']\n",
    "\n",
    "    # if there is no hotel available, show missing field\n",
    "    except (KeyError, IndexError):\n",
    "        print(\"Missing field/result... skipping.\")\n",
    "        \n",
    "    print(\"------------\")\n",
    "    \n",
    "    # Wait 1 sec to make another api request to avoid SSL Error\n",
    "    time.sleep(1)\n",
    "\n",
    "# Print end of search once searching is completed\n",
    "print(\"-------End of Search-------\")"
   ]
  },
  {
   "cell_type": "code",
   "execution_count": 19,
   "metadata": {},
   "outputs": [
    {
     "data": {
      "text/html": [
       "<div>\n",
       "<style scoped>\n",
       "    .dataframe tbody tr th:only-of-type {\n",
       "        vertical-align: middle;\n",
       "    }\n",
       "\n",
       "    .dataframe tbody tr th {\n",
       "        vertical-align: top;\n",
       "    }\n",
       "\n",
       "    .dataframe thead th {\n",
       "        text-align: right;\n",
       "    }\n",
       "</style>\n",
       "<table border=\"1\" class=\"dataframe\">\n",
       "  <thead>\n",
       "    <tr style=\"text-align: right;\">\n",
       "      <th></th>\n",
       "      <th>city</th>\n",
       "      <th>country</th>\n",
       "      <th>latitude</th>\n",
       "      <th>longitude</th>\n",
       "      <th>Hotel Name</th>\n",
       "    </tr>\n",
       "  </thead>\n",
       "  <tbody>\n",
       "    <tr>\n",
       "      <th>15</th>\n",
       "      <td>laminusa</td>\n",
       "      <td>BR</td>\n",
       "      <td>-16.3578</td>\n",
       "      <td>-49.4961</td>\n",
       "      <td></td>\n",
       "    </tr>\n",
       "    <tr>\n",
       "      <th>111</th>\n",
       "      <td>beberon</td>\n",
       "      <td>CN</td>\n",
       "      <td>31.8128</td>\n",
       "      <td>121.6561</td>\n",
       "      <td>Hanting Express Qidong Jianghai Middle Road</td>\n",
       "    </tr>\n",
       "    <tr>\n",
       "      <th>122</th>\n",
       "      <td>hyde</td>\n",
       "      <td>AM</td>\n",
       "      <td>40.0000</td>\n",
       "      <td>45.0000</td>\n",
       "      <td></td>\n",
       "    </tr>\n",
       "    <tr>\n",
       "      <th>252</th>\n",
       "      <td>miercurea-ciuc</td>\n",
       "      <td>AM</td>\n",
       "      <td>40.0275</td>\n",
       "      <td>44.3670</td>\n",
       "      <td></td>\n",
       "    </tr>\n",
       "    <tr>\n",
       "      <th>287</th>\n",
       "      <td>mazinde</td>\n",
       "      <td>ES</td>\n",
       "      <td>42.5216</td>\n",
       "      <td>-7.5142</td>\n",
       "      <td>Hotel Ribeira Sacra</td>\n",
       "    </tr>\n",
       "    <tr>\n",
       "      <th>361</th>\n",
       "      <td>stenlille</td>\n",
       "      <td>US</td>\n",
       "      <td>34.0454</td>\n",
       "      <td>-81.1293</td>\n",
       "      <td></td>\n",
       "    </tr>\n",
       "    <tr>\n",
       "      <th>415</th>\n",
       "      <td>aizkraukle</td>\n",
       "      <td>US</td>\n",
       "      <td>32.5160</td>\n",
       "      <td>-93.7321</td>\n",
       "      <td></td>\n",
       "    </tr>\n",
       "    <tr>\n",
       "      <th>416</th>\n",
       "      <td>ome</td>\n",
       "      <td>PT</td>\n",
       "      <td>41.3495</td>\n",
       "      <td>-8.4015</td>\n",
       "      <td></td>\n",
       "    </tr>\n",
       "    <tr>\n",
       "      <th>454</th>\n",
       "      <td>levice</td>\n",
       "      <td>IT</td>\n",
       "      <td>40.7272</td>\n",
       "      <td>8.5603</td>\n",
       "      <td>Piazza Azuni 18</td>\n",
       "    </tr>\n",
       "  </tbody>\n",
       "</table>\n",
       "</div>"
      ],
      "text/plain": [
       "               city country  latitude  longitude  \\\n",
       "15         laminusa      BR  -16.3578   -49.4961   \n",
       "111         beberon      CN   31.8128   121.6561   \n",
       "122            hyde      AM   40.0000    45.0000   \n",
       "252  miercurea-ciuc      AM   40.0275    44.3670   \n",
       "287         mazinde      ES   42.5216    -7.5142   \n",
       "361       stenlille      US   34.0454   -81.1293   \n",
       "415      aizkraukle      US   32.5160   -93.7321   \n",
       "416             ome      PT   41.3495    -8.4015   \n",
       "454          levice      IT   40.7272     8.5603   \n",
       "\n",
       "                                      Hotel Name  \n",
       "15                                                \n",
       "111  Hanting Express Qidong Jianghai Middle Road  \n",
       "122                                               \n",
       "252                                               \n",
       "287                          Hotel Ribeira Sacra  \n",
       "361                                               \n",
       "415                                               \n",
       "416                                               \n",
       "454                              Piazza Azuni 18  "
      ]
     },
     "execution_count": 19,
     "metadata": {},
     "output_type": "execute_result"
    }
   ],
   "source": [
    "hotel_search_df"
   ]
  },
  {
   "cell_type": "code",
   "execution_count": 20,
   "metadata": {},
   "outputs": [],
   "source": [
    "#CONFIGURE GMAPS\n",
    "gmaps.configure(api_key=g_key)"
   ]
  },
  {
   "cell_type": "code",
   "execution_count": 21,
   "metadata": {},
   "outputs": [],
   "source": [
    "# Store 'Lat' and 'Lng' into  locations \n",
    "vacation = vacation.dropna()\n",
    "locations = vacation[[\"latitude\", \"longitude\"]].astype(float)\n",
    "\n",
    "# humity to plot heat map\n",
    "humidity = vacation[\"humidity (%)\"].astype(float)"
   ]
  },
  {
   "cell_type": "code",
   "execution_count": 22,
   "metadata": {},
   "outputs": [
    {
     "data": {
      "application/vnd.jupyter.widget-view+json": {
       "model_id": "94bd9ab72ed64bb097e79948c90cc5a6",
       "version_major": 2,
       "version_minor": 0
      },
      "text/plain": [
       "Figure(layout=FigureLayout(height='420px'))"
      ]
     },
     "metadata": {},
     "output_type": "display_data"
    }
   ],
   "source": [
    "# humidity Heatmap layer\n",
    "fig = gmaps.figure()\n",
    "\n",
    "heat_layer = gmaps.heatmap_layer(locations, weights=humidity, \n",
    "                                 dissipating=False, max_intensity=100,\n",
    "                                 point_radius = 2)\n",
    "\n",
    "fig.add_layer(heat_layer)\n",
    "\n",
    "fig"
   ]
  },
  {
   "cell_type": "code",
   "execution_count": 24,
   "metadata": {},
   "outputs": [],
   "source": [
    "# Convert nearest hotel to list and filter for null values (where hotel was not found within range)\n",
    "\n",
    "locations_hotels = hotel_search_df.loc[hotel_search_df[\"Hotel Name\"] !=\"\"]\n",
    "hotels = locations_hotels[\"Hotel Name\"].tolist()\n",
    "\n",
    "marker_locations = locations_hotels[['latitude', 'longitude']]"
   ]
  },
  {
   "cell_type": "code",
   "execution_count": 26,
   "metadata": {
    "scrolled": true
   },
   "outputs": [
    {
     "data": {
      "application/vnd.jupyter.widget-view+json": {
       "model_id": "6166ab566ef64b35a5a49b00ba3dda89",
       "version_major": 2,
       "version_minor": 0
      },
      "text/plain": [
       "Figure(layout=FigureLayout(height='420px'))"
      ]
     },
     "metadata": {},
     "output_type": "display_data"
    }
   ],
   "source": [
    "# Create a marker_layer using the poverty list to fill the info box and combine both maps together\n",
    "fig = gmaps.figure()\n",
    "markers = gmaps.marker_layer(marker_locations,\n",
    "    info_box_content=[f\"Near Hotels: {hotel}\" for hotel in hotels])\n",
    "fig.add_layer(markers)\n",
    "fig.add_layer(heat_layer)\n",
    "fig"
   ]
  },
  {
   "cell_type": "code",
   "execution_count": null,
   "metadata": {},
   "outputs": [],
   "source": []
  }
 ],
 "metadata": {
  "kernelspec": {
   "display_name": "Python 3",
   "language": "python",
   "name": "python3"
  },
  "language_info": {
   "codemirror_mode": {
    "name": "ipython",
    "version": 3
   },
   "file_extension": ".py",
   "mimetype": "text/x-python",
   "name": "python",
   "nbconvert_exporter": "python",
   "pygments_lexer": "ipython3",
   "version": "3.8.5"
  }
 },
 "nbformat": 4,
 "nbformat_minor": 4
}
